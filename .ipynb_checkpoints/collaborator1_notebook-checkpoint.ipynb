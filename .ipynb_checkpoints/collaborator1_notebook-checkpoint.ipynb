{
 "cells": [
  {
   "cell_type": "code",
   "execution_count": 1,
   "id": "0acc2bed-e52a-4098-90e8-915aa9774e23",
   "metadata": {},
   "outputs": [],
   "source": [
    "# Creating a function named \"renamevars\" that rename variables on a given data frame df.\n",
    "# The goal is to get this function to return a df whose column names are as detailed in dict_names.\n",
    "def renamevars(df, dict_names):\n",
    "    renamed_df = df.rename(columns=dict_names)\n",
    "    return renamed_df"
   ]
  },
  {
   "cell_type": "code",
   "execution_count": 2,
   "id": "1d7b4984-9441-495c-a745-34616627c804",
   "metadata": {},
   "outputs": [],
   "source": [
    "# Creating a function for detecting missing values and substituting them with the mean of the corresponding variable\n",
    "def missing_values(df):\n",
    "    import pandas as pd\n",
    "    # 1. Check for missing values\n",
    "    if df.isnull().any().any():\n",
    "        # 2. Substitute missing values with the mean if this is a numeric columns\n",
    "        df_cleaned = df.apply(lambda col: col.fillna(col.mean()) if pd.api.types.is_numeric_dtype(col) else col)\n",
    "\n",
    "        # 3. Remove rows if the missing value is in a non-numeric column\n",
    "        df_cleaned = df_cleaned.dropna(subset=df_cleaned.select_dtypes(exclude=['number']).columns)\n",
    "\n",
    "        # 4. Print the DataFrame after the changes\n",
    "        print(\"\\nDataFrame after filling missing values with column means and removing rows with missing values in non-numeric columns:\")\n",
    "        print(df_cleaned)\n",
    "\n",
    "        return df_cleaned\n",
    "    else:\n",
    "        # Announce that there are no missing values\n",
    "        print(\"No missing values found.\")\n",
    "        return df"
   ]
  },
  {
   "cell_type": "code",
   "execution_count": 3,
   "id": "ef3c818d-5c09-4b83-ae56-096330167def",
   "metadata": {},
   "outputs": [],
   "source": [
    "# Create a function to replace outliers with the mean value\n",
    "def replace_outliers(df):\n",
    "    import pandas as pd\n",
    "    import numpy as np\n",
    "    for col in df.columns:\n",
    "        # 1. Check if the column has numeric data\n",
    "        if pd.api.types.is_numeric_dtype(df[col]):\n",
    "            # 2. Calculate the mean and standard deviation of the column\n",
    "            column_mean = df[col].mean()\n",
    "            column_std = df[col].std()\n",
    "            # 3. Define a threshold for outliers (I have chosen 1.5 as a standard measure)\n",
    "            outlier_threshold = 1.5 * column_std\n",
    "            # 4. Replace outliers with the mean value\n",
    "            df[col] = np.where(np.abs(df[col] - column_mean) > outlier_threshold, column_mean, df[col])\n",
    "\n",
    "    return df"
   ]
  }
 ],
 "metadata": {
  "kernelspec": {
   "display_name": "Python 3 (ipykernel)",
   "language": "python",
   "name": "python3"
  },
  "language_info": {
   "codemirror_mode": {
    "name": "ipython",
    "version": 3
   },
   "file_extension": ".py",
   "mimetype": "text/x-python",
   "name": "python",
   "nbconvert_exporter": "python",
   "pygments_lexer": "ipython3",
   "version": "3.11.4"
  }
 },
 "nbformat": 4,
 "nbformat_minor": 5
}
