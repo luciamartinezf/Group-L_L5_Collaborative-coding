{
 "cells": [
  {
   "cell_type": "code",
   "execution_count": 3,
   "id": "5087194f-4493-4516-b05d-c11225fa570c",
   "metadata": {},
   "outputs": [],
   "source": [
    "# Creating a function that creates a scatterplot of two variables displaying the information given on groups in colors.\n",
    "def scat_plt(var1, var2, groups):\n",
    "    unique_groups = np.unique(groups)  # Making sure that we get unique group values\n",
    "\n",
    "    # Creating a scatterplot for each group with different colors\n",
    "    for group in unique_groups:\n",
    "        group_indices = groups == group\n",
    "        plt.scatter(var1[group_indices], var2[group_indices], label=f'Group {group}',alpha=0.6)\n",
    "\n",
    "    # Add labels with the variable's names and a legend\n",
    "    plt.xlabel(var1.name)\n",
    "    plt.ylabel(var2.name)\n",
    "    plt.legend()\n",
    "    plt.title('Scatterplot of {} vs {} with Group Information'.format(var1.name, var2.name))\n",
    "\n",
    "    # Show the plot\n",
    "    plt.show()"
   ]
  },
  {
   "cell_type": "code",
   "execution_count": 4,
   "id": "8815945e-00e2-43d2-943d-117bde98590f",
   "metadata": {},
   "outputs": [],
   "source": [
    "def normalize(df, op):\n",
    "    norm_df = df.copy()  # Create a copy to avoid modifying the original DataFrame\n",
    "    \n",
    "    # Identify and exclude variables supposed to be categorical\n",
    "    potential_categorical = [col for col in numeric_columns if (len(df[col].unique()) / len(df[col])) <= threshold]\n",
    "    numeric_columns = [col for col in numeric_columns if col not in potential_categorical]\n",
    "    \n",
    "    # Normalize variables based on the specified option\n",
    "    if op == 0:  # min_max for each column\n",
    "        # Calculate min_max normalization for each numeric column\n",
    "        normal = (df[numeric_columns] - df[numeric_columns].min()) / (df[numeric_columns].max() - df[numeric_columns].min())\n",
    "    elif op == 1:  # Min-Max normalization\n",
    "        # Calculate z-score normalization for each numeric column\n",
    "        normal = (df[numeric_columns] - df[numeric_columns].mean()) / (df[numeric_columns].std())\n",
    "    else:\n",
    "        raise ValueError(\"Invalid value for op. Use 0 for z-score normalization or 1 for min-max normalization.\")\n",
    "    \n",
    "    # Create a new DataFrame with normalized values\n",
    "    norm_df = pd.concat([df.drop(columns=numeric_columns), normal], axis=1)\n",
    "    \n",
    "    return norm_df"
   ]
  }
 ],
 "metadata": {
  "kernelspec": {
   "display_name": "Python 3 (ipykernel)",
   "language": "python",
   "name": "python3"
  },
  "language_info": {
   "codemirror_mode": {
    "name": "ipython",
    "version": 3
   },
   "file_extension": ".py",
   "mimetype": "text/x-python",
   "name": "python",
   "nbconvert_exporter": "python",
   "pygments_lexer": "ipython3",
   "version": "3.11.4"
  }
 },
 "nbformat": 4,
 "nbformat_minor": 5
}
