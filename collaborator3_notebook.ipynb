{
 "cells": [
  {
   "cell_type": "code",
   "execution_count": 1,
   "id": "2ab1dbab-70a2-4db1-b1e5-99a4bab39a4c",
   "metadata": {},
   "outputs": [],
   "source": [
    "# Creation of a funcion that computes the mean of numeric columns and the mode for non-numeric column, excluding the group variable.\n",
    "def group_and_average(df, gv):\n",
    "    import pandas as pd\n",
    "    if gv not in df.columns:\n",
    "        raise ValueError(f\"Grouping variable '{gv}' does not exist in the DataFrame.\") #Inform that the gv value given is not valid\n",
    "    else:\n",
    "        grouped_df = df.groupby(gv) #Grouping the DataFrame by gv\n",
    "    \n",
    "    def custom_agg(series):\n",
    "        if pd.api.types.is_numeric_dtype(series): \n",
    "            #Calculate the mean if the variable is numeric\n",
    "            return series.mean()\n",
    "        else:\n",
    "            #Calculate the mode if the variable is non-numeric\n",
    "            return series.mode().iloc[0]  # Mode might return multiple values, so we take the first one\n",
    "    \n",
    "    # Apply the custom_agg function to each column\n",
    "    result = grouped_df.agg(custom_agg).reset_index()\n",
    "    return result"
   ]
  }
 ],
 "metadata": {
  "kernelspec": {
   "display_name": "Python 3 (ipykernel)",
   "language": "python",
   "name": "python3"
  },
  "language_info": {
   "codemirror_mode": {
    "name": "ipython",
    "version": 3
   },
   "file_extension": ".py",
   "mimetype": "text/x-python",
   "name": "python",
   "nbconvert_exporter": "python",
   "pygments_lexer": "ipython3",
   "version": "3.11.4"
  }
 },
 "nbformat": 4,
 "nbformat_minor": 5
}
